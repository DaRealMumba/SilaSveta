{
  "nbformat": 4,
  "nbformat_minor": 0,
  "metadata": {
    "colab": {
      "name": "Final SilaSveta.ipynb",
      "provenance": [],
      "collapsed_sections": []
    },
    "kernelspec": {
      "name": "python3",
      "display_name": "Python 3"
    },
    "language_info": {
      "name": "python"
    },
    "accelerator": "GPU"
  },
  "cells": [
    {
      "cell_type": "code",
      "execution_count": 1,
      "metadata": {
        "id": "tWfo7l0ZN5am"
      },
      "outputs": [],
      "source": [
        "# import libraries\n",
        "import json\n",
        "import pandas as pd\n",
        "import os\n",
        "import shutil \n",
        "import numpy as np\n",
        "import random"
      ]
    },
    {
      "cell_type": "code",
      "source": [
        "from google.colab import drive\n",
        "drive.mount('/content/drive')"
      ],
      "metadata": {
        "colab": {
          "base_uri": "https://localhost:8080/"
        },
        "id": "oLqA1QrKOE5z",
        "outputId": "807d3dfd-efb3-40d1-d671-e2e8d81004a3"
      },
      "execution_count": 2,
      "outputs": [
        {
          "output_type": "stream",
          "name": "stdout",
          "text": [
            "Mounted at /content/drive\n"
          ]
        }
      ]
    },
    {
      "cell_type": "code",
      "source": [
        "cd drive/MyDrive/Sila_Sveta"
      ],
      "metadata": {
        "colab": {
          "base_uri": "https://localhost:8080/"
        },
        "id": "ji0xxCmqOfQ_",
        "outputId": "adcd5470-cc7b-458a-843d-1480fde0241d"
      },
      "execution_count": 3,
      "outputs": [
        {
          "output_type": "stream",
          "name": "stdout",
          "text": [
            "/content/drive/MyDrive/Sila_Sveta\n"
          ]
        }
      ]
    },
    {
      "cell_type": "code",
      "source": [
        "# откроем json файл в виде словаря\n",
        "with open('data.json') as handle:\n",
        "    dict_sila = json.loads(handle.read())"
      ],
      "metadata": {
        "id": "vDdDsWrmOGfh"
      },
      "execution_count": 4,
      "outputs": []
    },
    {
      "cell_type": "code",
      "source": [
        "# видим, что внутри json есть разделение на train/test\n",
        "dict_sila.keys()"
      ],
      "metadata": {
        "colab": {
          "base_uri": "https://localhost:8080/"
        },
        "id": "QEbzS974Oiqg",
        "outputId": "89fae31b-c4cd-41db-d4ed-e16b5702dd8d"
      },
      "execution_count": 5,
      "outputs": [
        {
          "output_type": "execute_result",
          "data": {
            "text/plain": [
              "dict_keys(['initial_bundle', 'test_bundle'])"
            ]
          },
          "metadata": {},
          "execution_count": 5
        }
      ]
    },
    {
      "cell_type": "code",
      "source": [
        "len(dict_sila['initial_bundle']), len(dict_sila['test_bundle'])"
      ],
      "metadata": {
        "colab": {
          "base_uri": "https://localhost:8080/"
        },
        "id": "woWI1ZJnOwAs",
        "outputId": "8f990b8d-08e5-40a4-b1d8-70e45a907e86"
      },
      "execution_count": 6,
      "outputs": [
        {
          "output_type": "execute_result",
          "data": {
            "text/plain": [
              "(1558, 1545)"
            ]
          },
          "metadata": {},
          "execution_count": 6
        }
      ]
    },
    {
      "cell_type": "markdown",
      "source": [
        "## Split dict to train/test and make 2 DataFrames"
      ],
      "metadata": {
        "id": "aUIHvSwhOzMo"
      }
    },
    {
      "cell_type": "code",
      "source": [
        "# создаем train DataFrame и записываем туда значения из initial_bundle\n",
        "train = []\n",
        "for i in range(0,1558):\n",
        "  train.append(list(dict_sila.values())[0][i])\n",
        "\n",
        "df_train = pd.DataFrame(train)"
      ],
      "metadata": {
        "id": "2TfPqKiMOxk6"
      },
      "execution_count": null,
      "outputs": []
    },
    {
      "cell_type": "code",
      "source": [
        "df_train"
      ],
      "metadata": {
        "colab": {
          "base_uri": "https://localhost:8080/",
          "height": 633
        },
        "id": "1aPLzzebzP1i",
        "outputId": "15c8a86e-531a-4616-d52e-3f703de70365"
      },
      "execution_count": null,
      "outputs": [
        {
          "output_type": "execute_result",
          "data": {
            "text/plain": [
              "        id                                     type  \\\n",
              "0     2703  {'id': 20, 'name': 'Showcase & Finals'}   \n",
              "1     3337            {'id': 2, 'name': 'Textures'}   \n",
              "2     2974           {'id': 1, 'name': '3D Models'}   \n",
              "3     1207                {'id': 3, 'name': 'HDRI'}   \n",
              "4     1151                {'id': 3, 'name': 'HDRI'}   \n",
              "...    ...                                      ...   \n",
              "1553  1082                {'id': 3, 'name': 'HDRI'}   \n",
              "1554  1063                {'id': 3, 'name': 'HDRI'}   \n",
              "1555  2241           {'id': 1, 'name': '3D Models'}   \n",
              "1556  1212                {'id': 3, 'name': 'HDRI'}   \n",
              "1557  2969            {'id': 2, 'name': 'Textures'}   \n",
              "\n",
              "                                               category  \\\n",
              "0     {'id': 133, 'name': 'Installations', 'type': {...   \n",
              "1     {'id': 175, 'name': 'cyber', 'type': {'id': 2,...   \n",
              "2     {'id': 4, 'name': 'Buildings', 'type': {'id': ...   \n",
              "3     {'id': 112, 'name': 'Light Textures', 'type': ...   \n",
              "4     {'id': 112, 'name': 'Light Textures', 'type': ...   \n",
              "...                                                 ...   \n",
              "1553  {'id': 112, 'name': 'Light Textures', 'type': ...   \n",
              "1554  {'id': 112, 'name': 'Light Textures', 'type': ...   \n",
              "1555  {'id': 146, 'name': 'Architecture', 'type': {'...   \n",
              "1556  {'id': 112, 'name': 'Light Textures', 'type': ...   \n",
              "1557  {'id': 26, 'name': 'Wipe Mark', 'type': {'id':...   \n",
              "\n",
              "                                            subcategory  \\\n",
              "0                                                  None   \n",
              "1                                                  None   \n",
              "2     {'id': 51, 'name': 'Destroyed', 'category': {'...   \n",
              "3     {'id': 149, 'name': 'Lamps', 'category': {'id'...   \n",
              "4     {'id': 148, 'name': 'Softbox', 'category': {'i...   \n",
              "...                                                 ...   \n",
              "1553  {'id': 148, 'name': 'Softbox', 'category': {'i...   \n",
              "1554  {'id': 149, 'name': 'Lamps', 'category': {'id'...   \n",
              "1555  {'id': 171, 'name': 'Sculpture', 'category': {...   \n",
              "1556  {'id': 149, 'name': 'Lamps', 'category': {'id'...   \n",
              "1557                                               None   \n",
              "\n",
              "                                                   tags  \\\n",
              "0         [2022, doha, fan, fifa, fooball, qatar, zone]   \n",
              "1                 [cyber, cyberpunk, neon, pixel, sign]   \n",
              "2                          [castle, ruine, stone, wall]   \n",
              "3                          [lamps, red, round, studios]   \n",
              "4                   [rectangle, softbox, studios, warm]   \n",
              "...                                                 ...   \n",
              "1553                [rectangle, softbox, studios, warm]   \n",
              "1554                            [lamps, round, studios]   \n",
              "1555  [ancient, archaeology, egypt, history, mytholo...   \n",
              "1556                    [lamp, neutral, round, studios]   \n",
              "1557            [dust, fingerprint, imperfection, wipe]   \n",
              "\n",
              "                                               file  \n",
              "0     data/bf0d8c12-950b-4760-8deb-3a562cd7fe5b.jpg  \n",
              "1     data/021d56b2-305b-443a-b45b-17ca7eafc3e9.jpg  \n",
              "2     data/9c3909df-21d4-4e84-805d-ade67f2df990.png  \n",
              "3     data/cd06f94b-179e-4634-87eb-d1b77cd06bfe.jpg  \n",
              "4     data/e0734308-0fe8-4145-a968-17039966b48c.jpg  \n",
              "...                                             ...  \n",
              "1553  data/d11a3894-5706-4c91-881b-bedcde2c335b.jpg  \n",
              "1554  data/b9c26911-e5dd-4dcf-8f53-de751e734fb5.jpg  \n",
              "1555  data/9680d0ca-e9fa-4622-a047-e167fe09a6e6.png  \n",
              "1556  data/c9dedb35-b2f8-4ed6-ae4c-87e156f22ee8.jpg  \n",
              "1557  data/6da849c2-01fb-44a1-af15-9c6041021f00.jpg  \n",
              "\n",
              "[1558 rows x 6 columns]"
            ],
            "text/html": [
              "\n",
              "  <div id=\"df-815e26f8-cab4-44e3-89e0-079ee46f91da\">\n",
              "    <div class=\"colab-df-container\">\n",
              "      <div>\n",
              "<style scoped>\n",
              "    .dataframe tbody tr th:only-of-type {\n",
              "        vertical-align: middle;\n",
              "    }\n",
              "\n",
              "    .dataframe tbody tr th {\n",
              "        vertical-align: top;\n",
              "    }\n",
              "\n",
              "    .dataframe thead th {\n",
              "        text-align: right;\n",
              "    }\n",
              "</style>\n",
              "<table border=\"1\" class=\"dataframe\">\n",
              "  <thead>\n",
              "    <tr style=\"text-align: right;\">\n",
              "      <th></th>\n",
              "      <th>id</th>\n",
              "      <th>type</th>\n",
              "      <th>category</th>\n",
              "      <th>subcategory</th>\n",
              "      <th>tags</th>\n",
              "      <th>file</th>\n",
              "    </tr>\n",
              "  </thead>\n",
              "  <tbody>\n",
              "    <tr>\n",
              "      <th>0</th>\n",
              "      <td>2703</td>\n",
              "      <td>{'id': 20, 'name': 'Showcase &amp; Finals'}</td>\n",
              "      <td>{'id': 133, 'name': 'Installations', 'type': {...</td>\n",
              "      <td>None</td>\n",
              "      <td>[2022, doha, fan, fifa, fooball, qatar, zone]</td>\n",
              "      <td>data/bf0d8c12-950b-4760-8deb-3a562cd7fe5b.jpg</td>\n",
              "    </tr>\n",
              "    <tr>\n",
              "      <th>1</th>\n",
              "      <td>3337</td>\n",
              "      <td>{'id': 2, 'name': 'Textures'}</td>\n",
              "      <td>{'id': 175, 'name': 'cyber', 'type': {'id': 2,...</td>\n",
              "      <td>None</td>\n",
              "      <td>[cyber, cyberpunk, neon, pixel, sign]</td>\n",
              "      <td>data/021d56b2-305b-443a-b45b-17ca7eafc3e9.jpg</td>\n",
              "    </tr>\n",
              "    <tr>\n",
              "      <th>2</th>\n",
              "      <td>2974</td>\n",
              "      <td>{'id': 1, 'name': '3D Models'}</td>\n",
              "      <td>{'id': 4, 'name': 'Buildings', 'type': {'id': ...</td>\n",
              "      <td>{'id': 51, 'name': 'Destroyed', 'category': {'...</td>\n",
              "      <td>[castle, ruine, stone, wall]</td>\n",
              "      <td>data/9c3909df-21d4-4e84-805d-ade67f2df990.png</td>\n",
              "    </tr>\n",
              "    <tr>\n",
              "      <th>3</th>\n",
              "      <td>1207</td>\n",
              "      <td>{'id': 3, 'name': 'HDRI'}</td>\n",
              "      <td>{'id': 112, 'name': 'Light Textures', 'type': ...</td>\n",
              "      <td>{'id': 149, 'name': 'Lamps', 'category': {'id'...</td>\n",
              "      <td>[lamps, red, round, studios]</td>\n",
              "      <td>data/cd06f94b-179e-4634-87eb-d1b77cd06bfe.jpg</td>\n",
              "    </tr>\n",
              "    <tr>\n",
              "      <th>4</th>\n",
              "      <td>1151</td>\n",
              "      <td>{'id': 3, 'name': 'HDRI'}</td>\n",
              "      <td>{'id': 112, 'name': 'Light Textures', 'type': ...</td>\n",
              "      <td>{'id': 148, 'name': 'Softbox', 'category': {'i...</td>\n",
              "      <td>[rectangle, softbox, studios, warm]</td>\n",
              "      <td>data/e0734308-0fe8-4145-a968-17039966b48c.jpg</td>\n",
              "    </tr>\n",
              "    <tr>\n",
              "      <th>...</th>\n",
              "      <td>...</td>\n",
              "      <td>...</td>\n",
              "      <td>...</td>\n",
              "      <td>...</td>\n",
              "      <td>...</td>\n",
              "      <td>...</td>\n",
              "    </tr>\n",
              "    <tr>\n",
              "      <th>1553</th>\n",
              "      <td>1082</td>\n",
              "      <td>{'id': 3, 'name': 'HDRI'}</td>\n",
              "      <td>{'id': 112, 'name': 'Light Textures', 'type': ...</td>\n",
              "      <td>{'id': 148, 'name': 'Softbox', 'category': {'i...</td>\n",
              "      <td>[rectangle, softbox, studios, warm]</td>\n",
              "      <td>data/d11a3894-5706-4c91-881b-bedcde2c335b.jpg</td>\n",
              "    </tr>\n",
              "    <tr>\n",
              "      <th>1554</th>\n",
              "      <td>1063</td>\n",
              "      <td>{'id': 3, 'name': 'HDRI'}</td>\n",
              "      <td>{'id': 112, 'name': 'Light Textures', 'type': ...</td>\n",
              "      <td>{'id': 149, 'name': 'Lamps', 'category': {'id'...</td>\n",
              "      <td>[lamps, round, studios]</td>\n",
              "      <td>data/b9c26911-e5dd-4dcf-8f53-de751e734fb5.jpg</td>\n",
              "    </tr>\n",
              "    <tr>\n",
              "      <th>1555</th>\n",
              "      <td>2241</td>\n",
              "      <td>{'id': 1, 'name': '3D Models'}</td>\n",
              "      <td>{'id': 146, 'name': 'Architecture', 'type': {'...</td>\n",
              "      <td>{'id': 171, 'name': 'Sculpture', 'category': {...</td>\n",
              "      <td>[ancient, archaeology, egypt, history, mytholo...</td>\n",
              "      <td>data/9680d0ca-e9fa-4622-a047-e167fe09a6e6.png</td>\n",
              "    </tr>\n",
              "    <tr>\n",
              "      <th>1556</th>\n",
              "      <td>1212</td>\n",
              "      <td>{'id': 3, 'name': 'HDRI'}</td>\n",
              "      <td>{'id': 112, 'name': 'Light Textures', 'type': ...</td>\n",
              "      <td>{'id': 149, 'name': 'Lamps', 'category': {'id'...</td>\n",
              "      <td>[lamp, neutral, round, studios]</td>\n",
              "      <td>data/c9dedb35-b2f8-4ed6-ae4c-87e156f22ee8.jpg</td>\n",
              "    </tr>\n",
              "    <tr>\n",
              "      <th>1557</th>\n",
              "      <td>2969</td>\n",
              "      <td>{'id': 2, 'name': 'Textures'}</td>\n",
              "      <td>{'id': 26, 'name': 'Wipe Mark', 'type': {'id':...</td>\n",
              "      <td>None</td>\n",
              "      <td>[dust, fingerprint, imperfection, wipe]</td>\n",
              "      <td>data/6da849c2-01fb-44a1-af15-9c6041021f00.jpg</td>\n",
              "    </tr>\n",
              "  </tbody>\n",
              "</table>\n",
              "<p>1558 rows × 6 columns</p>\n",
              "</div>\n",
              "      <button class=\"colab-df-convert\" onclick=\"convertToInteractive('df-815e26f8-cab4-44e3-89e0-079ee46f91da')\"\n",
              "              title=\"Convert this dataframe to an interactive table.\"\n",
              "              style=\"display:none;\">\n",
              "        \n",
              "  <svg xmlns=\"http://www.w3.org/2000/svg\" height=\"24px\"viewBox=\"0 0 24 24\"\n",
              "       width=\"24px\">\n",
              "    <path d=\"M0 0h24v24H0V0z\" fill=\"none\"/>\n",
              "    <path d=\"M18.56 5.44l.94 2.06.94-2.06 2.06-.94-2.06-.94-.94-2.06-.94 2.06-2.06.94zm-11 1L8.5 8.5l.94-2.06 2.06-.94-2.06-.94L8.5 2.5l-.94 2.06-2.06.94zm10 10l.94 2.06.94-2.06 2.06-.94-2.06-.94-.94-2.06-.94 2.06-2.06.94z\"/><path d=\"M17.41 7.96l-1.37-1.37c-.4-.4-.92-.59-1.43-.59-.52 0-1.04.2-1.43.59L10.3 9.45l-7.72 7.72c-.78.78-.78 2.05 0 2.83L4 21.41c.39.39.9.59 1.41.59.51 0 1.02-.2 1.41-.59l7.78-7.78 2.81-2.81c.8-.78.8-2.07 0-2.86zM5.41 20L4 18.59l7.72-7.72 1.47 1.35L5.41 20z\"/>\n",
              "  </svg>\n",
              "      </button>\n",
              "      \n",
              "  <style>\n",
              "    .colab-df-container {\n",
              "      display:flex;\n",
              "      flex-wrap:wrap;\n",
              "      gap: 12px;\n",
              "    }\n",
              "\n",
              "    .colab-df-convert {\n",
              "      background-color: #E8F0FE;\n",
              "      border: none;\n",
              "      border-radius: 50%;\n",
              "      cursor: pointer;\n",
              "      display: none;\n",
              "      fill: #1967D2;\n",
              "      height: 32px;\n",
              "      padding: 0 0 0 0;\n",
              "      width: 32px;\n",
              "    }\n",
              "\n",
              "    .colab-df-convert:hover {\n",
              "      background-color: #E2EBFA;\n",
              "      box-shadow: 0px 1px 2px rgba(60, 64, 67, 0.3), 0px 1px 3px 1px rgba(60, 64, 67, 0.15);\n",
              "      fill: #174EA6;\n",
              "    }\n",
              "\n",
              "    [theme=dark] .colab-df-convert {\n",
              "      background-color: #3B4455;\n",
              "      fill: #D2E3FC;\n",
              "    }\n",
              "\n",
              "    [theme=dark] .colab-df-convert:hover {\n",
              "      background-color: #434B5C;\n",
              "      box-shadow: 0px 1px 3px 1px rgba(0, 0, 0, 0.15);\n",
              "      filter: drop-shadow(0px 1px 2px rgba(0, 0, 0, 0.3));\n",
              "      fill: #FFFFFF;\n",
              "    }\n",
              "  </style>\n",
              "\n",
              "      <script>\n",
              "        const buttonEl =\n",
              "          document.querySelector('#df-815e26f8-cab4-44e3-89e0-079ee46f91da button.colab-df-convert');\n",
              "        buttonEl.style.display =\n",
              "          google.colab.kernel.accessAllowed ? 'block' : 'none';\n",
              "\n",
              "        async function convertToInteractive(key) {\n",
              "          const element = document.querySelector('#df-815e26f8-cab4-44e3-89e0-079ee46f91da');\n",
              "          const dataTable =\n",
              "            await google.colab.kernel.invokeFunction('convertToInteractive',\n",
              "                                                     [key], {});\n",
              "          if (!dataTable) return;\n",
              "\n",
              "          const docLinkHtml = 'Like what you see? Visit the ' +\n",
              "            '<a target=\"_blank\" href=https://colab.research.google.com/notebooks/data_table.ipynb>data table notebook</a>'\n",
              "            + ' to learn more about interactive tables.';\n",
              "          element.innerHTML = '';\n",
              "          dataTable['output_type'] = 'display_data';\n",
              "          await google.colab.output.renderOutput(dataTable, element);\n",
              "          const docLink = document.createElement('div');\n",
              "          docLink.innerHTML = docLinkHtml;\n",
              "          element.appendChild(docLink);\n",
              "        }\n",
              "      </script>\n",
              "    </div>\n",
              "  </div>\n",
              "  "
            ]
          },
          "metadata": {},
          "execution_count": 8
        }
      ]
    },
    {
      "cell_type": "code",
      "source": [
        "# вытащим значения type name и category name\n",
        "df_train['type_id'] = df_train['type'].map(lambda x: x['id'])\n",
        "df_train['type_name'] = df_train['type'].map(lambda x: x['name'])\n",
        "df_train['category_id'] = df_train['category'].map(lambda x: x['id'])\n",
        "df_train['category_name'] = df_train['category'].map(lambda x: x['name'])"
      ],
      "metadata": {
        "id": "vfLZ9IexO_jN"
      },
      "execution_count": null,
      "outputs": []
    },
    {
      "cell_type": "code",
      "source": [
        "df_train.category_name.value_counts()"
      ],
      "metadata": {
        "colab": {
          "base_uri": "https://localhost:8080/"
        },
        "id": "RZVjDOiBPCkL",
        "outputId": "6cd48174-d74c-46ea-83cd-410845a58380"
      },
      "execution_count": null,
      "outputs": [
        {
          "output_type": "execute_result",
          "data": {
            "text/plain": [
              "Light Textures    210\n",
              "Vehicles          175\n",
              "Plants            150\n",
              "Explosions         74\n",
              "Other              72\n",
              "                 ... \n",
              "Impulse             1\n",
              "Animals             1\n",
              "Clouds              1\n",
              "LED Facades         1\n",
              "Wipe Mark           1\n",
              "Name: category_name, Length: 73, dtype: int64"
            ]
          },
          "metadata": {},
          "execution_count": 10
        }
      ]
    },
    {
      "cell_type": "code",
      "source": [
        "#записываем машины и растения в отдельный датасет \n",
        "req_train = df_train[(df_train['category_name'] == 'Vehicles') | (df_train['category_name'] == 'Plants')]"
      ],
      "metadata": {
        "id": "QDku653eijfL"
      },
      "execution_count": null,
      "outputs": []
    },
    {
      "cell_type": "code",
      "source": [
        "#удалаяем из df_train данные о машинах и растениях\n",
        "df_train = df_train.drop(req_train.index.tolist(), axis=0)"
      ],
      "metadata": {
        "id": "i62c3_4Rix0q"
      },
      "execution_count": null,
      "outputs": []
    },
    {
      "cell_type": "code",
      "source": [
        "# Делаем то же самое для тестовой части\n",
        "test = []\n",
        "for j in range(0, 1545):\n",
        "  test.append(list(dict_sila.values())[1][j])\n",
        "\n",
        "df_test = pd.DataFrame(test)"
      ],
      "metadata": {
        "id": "N4AlgiGvPGPv"
      },
      "execution_count": 7,
      "outputs": []
    },
    {
      "cell_type": "code",
      "source": [
        "df_test[df_test['category'].isna()]"
      ],
      "metadata": {
        "colab": {
          "base_uri": "https://localhost:8080/",
          "height": 111
        },
        "id": "NO_0rXlsPUjW",
        "outputId": "0bb39798-17af-4433-eb19-f29533c9703b"
      },
      "execution_count": 8,
      "outputs": [
        {
          "output_type": "execute_result",
          "data": {
            "text/plain": [
              "      id                                  type category subcategory  \\\n",
              "500  155  {'id': 13, 'name': 'Houdini Assets'}     None        None   \n",
              "867  154  {'id': 13, 'name': 'Houdini Assets'}     None        None   \n",
              "\n",
              "                   tags                                           file  \n",
              "500    [helix, houdini]  data/3586ff8d-98c4-4480-a644-63e43e120f55.png  \n",
              "867  [houdini, normals]  data/a240223c-da46-45ff-bfe5-b14887289860.png  "
            ],
            "text/html": [
              "\n",
              "  <div id=\"df-1fe5f511-c633-4373-98d9-7eaefe49c329\">\n",
              "    <div class=\"colab-df-container\">\n",
              "      <div>\n",
              "<style scoped>\n",
              "    .dataframe tbody tr th:only-of-type {\n",
              "        vertical-align: middle;\n",
              "    }\n",
              "\n",
              "    .dataframe tbody tr th {\n",
              "        vertical-align: top;\n",
              "    }\n",
              "\n",
              "    .dataframe thead th {\n",
              "        text-align: right;\n",
              "    }\n",
              "</style>\n",
              "<table border=\"1\" class=\"dataframe\">\n",
              "  <thead>\n",
              "    <tr style=\"text-align: right;\">\n",
              "      <th></th>\n",
              "      <th>id</th>\n",
              "      <th>type</th>\n",
              "      <th>category</th>\n",
              "      <th>subcategory</th>\n",
              "      <th>tags</th>\n",
              "      <th>file</th>\n",
              "    </tr>\n",
              "  </thead>\n",
              "  <tbody>\n",
              "    <tr>\n",
              "      <th>500</th>\n",
              "      <td>155</td>\n",
              "      <td>{'id': 13, 'name': 'Houdini Assets'}</td>\n",
              "      <td>None</td>\n",
              "      <td>None</td>\n",
              "      <td>[helix, houdini]</td>\n",
              "      <td>data/3586ff8d-98c4-4480-a644-63e43e120f55.png</td>\n",
              "    </tr>\n",
              "    <tr>\n",
              "      <th>867</th>\n",
              "      <td>154</td>\n",
              "      <td>{'id': 13, 'name': 'Houdini Assets'}</td>\n",
              "      <td>None</td>\n",
              "      <td>None</td>\n",
              "      <td>[houdini, normals]</td>\n",
              "      <td>data/a240223c-da46-45ff-bfe5-b14887289860.png</td>\n",
              "    </tr>\n",
              "  </tbody>\n",
              "</table>\n",
              "</div>\n",
              "      <button class=\"colab-df-convert\" onclick=\"convertToInteractive('df-1fe5f511-c633-4373-98d9-7eaefe49c329')\"\n",
              "              title=\"Convert this dataframe to an interactive table.\"\n",
              "              style=\"display:none;\">\n",
              "        \n",
              "  <svg xmlns=\"http://www.w3.org/2000/svg\" height=\"24px\"viewBox=\"0 0 24 24\"\n",
              "       width=\"24px\">\n",
              "    <path d=\"M0 0h24v24H0V0z\" fill=\"none\"/>\n",
              "    <path d=\"M18.56 5.44l.94 2.06.94-2.06 2.06-.94-2.06-.94-.94-2.06-.94 2.06-2.06.94zm-11 1L8.5 8.5l.94-2.06 2.06-.94-2.06-.94L8.5 2.5l-.94 2.06-2.06.94zm10 10l.94 2.06.94-2.06 2.06-.94-2.06-.94-.94-2.06-.94 2.06-2.06.94z\"/><path d=\"M17.41 7.96l-1.37-1.37c-.4-.4-.92-.59-1.43-.59-.52 0-1.04.2-1.43.59L10.3 9.45l-7.72 7.72c-.78.78-.78 2.05 0 2.83L4 21.41c.39.39.9.59 1.41.59.51 0 1.02-.2 1.41-.59l7.78-7.78 2.81-2.81c.8-.78.8-2.07 0-2.86zM5.41 20L4 18.59l7.72-7.72 1.47 1.35L5.41 20z\"/>\n",
              "  </svg>\n",
              "      </button>\n",
              "      \n",
              "  <style>\n",
              "    .colab-df-container {\n",
              "      display:flex;\n",
              "      flex-wrap:wrap;\n",
              "      gap: 12px;\n",
              "    }\n",
              "\n",
              "    .colab-df-convert {\n",
              "      background-color: #E8F0FE;\n",
              "      border: none;\n",
              "      border-radius: 50%;\n",
              "      cursor: pointer;\n",
              "      display: none;\n",
              "      fill: #1967D2;\n",
              "      height: 32px;\n",
              "      padding: 0 0 0 0;\n",
              "      width: 32px;\n",
              "    }\n",
              "\n",
              "    .colab-df-convert:hover {\n",
              "      background-color: #E2EBFA;\n",
              "      box-shadow: 0px 1px 2px rgba(60, 64, 67, 0.3), 0px 1px 3px 1px rgba(60, 64, 67, 0.15);\n",
              "      fill: #174EA6;\n",
              "    }\n",
              "\n",
              "    [theme=dark] .colab-df-convert {\n",
              "      background-color: #3B4455;\n",
              "      fill: #D2E3FC;\n",
              "    }\n",
              "\n",
              "    [theme=dark] .colab-df-convert:hover {\n",
              "      background-color: #434B5C;\n",
              "      box-shadow: 0px 1px 3px 1px rgba(0, 0, 0, 0.15);\n",
              "      filter: drop-shadow(0px 1px 2px rgba(0, 0, 0, 0.3));\n",
              "      fill: #FFFFFF;\n",
              "    }\n",
              "  </style>\n",
              "\n",
              "      <script>\n",
              "        const buttonEl =\n",
              "          document.querySelector('#df-1fe5f511-c633-4373-98d9-7eaefe49c329 button.colab-df-convert');\n",
              "        buttonEl.style.display =\n",
              "          google.colab.kernel.accessAllowed ? 'block' : 'none';\n",
              "\n",
              "        async function convertToInteractive(key) {\n",
              "          const element = document.querySelector('#df-1fe5f511-c633-4373-98d9-7eaefe49c329');\n",
              "          const dataTable =\n",
              "            await google.colab.kernel.invokeFunction('convertToInteractive',\n",
              "                                                     [key], {});\n",
              "          if (!dataTable) return;\n",
              "\n",
              "          const docLinkHtml = 'Like what you see? Visit the ' +\n",
              "            '<a target=\"_blank\" href=https://colab.research.google.com/notebooks/data_table.ipynb>data table notebook</a>'\n",
              "            + ' to learn more about interactive tables.';\n",
              "          element.innerHTML = '';\n",
              "          dataTable['output_type'] = 'display_data';\n",
              "          await google.colab.output.renderOutput(dataTable, element);\n",
              "          const docLink = document.createElement('div');\n",
              "          docLink.innerHTML = docLinkHtml;\n",
              "          element.appendChild(docLink);\n",
              "        }\n",
              "      </script>\n",
              "    </div>\n",
              "  </div>\n",
              "  "
            ]
          },
          "metadata": {},
          "execution_count": 8
        }
      ]
    },
    {
      "cell_type": "code",
      "source": [
        "dropped_photos = df_test[df_test['category'].isna()]"
      ],
      "metadata": {
        "id": "Y1TBATxzPa44"
      },
      "execution_count": 9,
      "outputs": []
    },
    {
      "cell_type": "code",
      "source": [
        "#дропаем 2 фотки, в которых есть пропущенные значения в колонке \"category\", чтобы применить лямбда функцию\n",
        "df_test = df_test.drop([500, 867])"
      ],
      "metadata": {
        "id": "VCJ_P9CjPXOu"
      },
      "execution_count": 10,
      "outputs": []
    },
    {
      "cell_type": "code",
      "source": [
        "df_test['type_id'] = df_test['type'].map(lambda x: x['id'])\n",
        "df_test['type_name'] = df_test['type'].map(lambda x: x['name'])\n",
        "df_test['category_id'] = df_test['category'].map(lambda x: x['id'])\n",
        "df_test['category_name'] = df_test['category'].map(lambda x: x['name'])"
      ],
      "metadata": {
        "id": "uQlLGwckPgVT"
      },
      "execution_count": 11,
      "outputs": []
    },
    {
      "cell_type": "code",
      "source": [
        "df_test.category_name.value_counts()"
      ],
      "metadata": {
        "colab": {
          "base_uri": "https://localhost:8080/"
        },
        "id": "YR63etlAPiwp",
        "outputId": "b50f8913-fd37-40bc-816b-8f94d36e5c00"
      },
      "execution_count": null,
      "outputs": [
        {
          "output_type": "execute_result",
          "data": {
            "text/plain": [
              "Light Textures     217\n",
              "Vehicles           182\n",
              "Plants             115\n",
              "Explosions          68\n",
              "Studios             64\n",
              "                  ... \n",
              "Signs & Symbols      1\n",
              "Presale Videos       1\n",
              "Presentations        1\n",
              "Grids & Dots         1\n",
              "Identity             1\n",
              "Name: category_name, Length: 71, dtype: int64"
            ]
          },
          "metadata": {},
          "execution_count": 18
        }
      ]
    },
    {
      "cell_type": "code",
      "source": [
        "req_test = df_test[(df_test.category_name == 'Vehicles') | (df_test.category_name == 'Plants')]"
      ],
      "metadata": {
        "id": "G7RQGXWfl_Qi"
      },
      "execution_count": null,
      "outputs": []
    },
    {
      "cell_type": "code",
      "source": [
        "#удалаяем из датафрейма данные о машинах и растениях\n",
        "df_test = df_test.drop(req_test.index.tolist(), axis=0)"
      ],
      "metadata": {
        "id": "oZxFAvjTmfKd"
      },
      "execution_count": null,
      "outputs": []
    },
    {
      "cell_type": "code",
      "source": [
        "# смотрим на размеры датафреймов и видим сильный дисбаланс классов\n",
        "len(df_train), len(df_test), len(req_train), len(req_test)"
      ],
      "metadata": {
        "colab": {
          "base_uri": "https://localhost:8080/"
        },
        "id": "ZQnJwzAuq_Uj",
        "outputId": "47e01349-ecbf-499f-d193-31ea547fac04"
      },
      "execution_count": null,
      "outputs": [
        {
          "output_type": "execute_result",
          "data": {
            "text/plain": [
              "(1233, 1246, 325, 297)"
            ]
          },
          "metadata": {},
          "execution_count": 21
        }
      ]
    },
    {
      "cell_type": "markdown",
      "source": [
        "## Make train/test folders and split files between them"
      ],
      "metadata": {
        "id": "vbY0vGx8PwkN"
      }
    },
    {
      "cell_type": "code",
      "source": [
        "pwd"
      ],
      "metadata": {
        "colab": {
          "base_uri": "https://localhost:8080/",
          "height": 37
        },
        "id": "ZYHsi2XaZAe4",
        "outputId": "88f92600-d265-4856-ded3-f1cb63853fd6"
      },
      "execution_count": null,
      "outputs": [
        {
          "output_type": "execute_result",
          "data": {
            "text/plain": [
              "'/content/drive/MyDrive/Sila_Sveta'"
            ],
            "application/vnd.google.colaboratory.intrinsic+json": {
              "type": "string"
            }
          },
          "metadata": {},
          "execution_count": 22
        }
      ]
    },
    {
      "cell_type": "code",
      "source": [
        "# записываем полный путь ко всем фоткам\n",
        "path_to_file_names = [x for x in os.walk('data')]"
      ],
      "metadata": {
        "id": "NBRP9CAOZIUq"
      },
      "execution_count": 12,
      "outputs": []
    },
    {
      "cell_type": "code",
      "source": [
        "# создаем список из всех фоток \n",
        "file_names = []\n",
        "for i in path_to_file_names[0][2]:\n",
        "  file_names.append(i)"
      ],
      "metadata": {
        "id": "7SAidAq2ZdOA"
      },
      "execution_count": 13,
      "outputs": []
    },
    {
      "cell_type": "code",
      "source": [
        "# создаем папки train и test\n",
        "!mkdir train\n",
        "!mkdir test"
      ],
      "metadata": {
        "id": "3KyGCZU7Z30F"
      },
      "execution_count": null,
      "outputs": []
    },
    {
      "cell_type": "code",
      "source": [
        "# Внутри папок train/test будет разделение на классы: машины, растения и другое\n",
        "!mkdir train/vehicles\n",
        "!mkdir train/plants\n",
        "!mkdir train/other\n",
        "\n",
        "!mkdir test/vehicles\n",
        "!mkdir test/plants\n",
        "!mkdir test/other"
      ],
      "metadata": {
        "id": "ezrtWEgRZ42I"
      },
      "execution_count": null,
      "outputs": []
    },
    {
      "cell_type": "code",
      "source": [
        "# папки для аугментаций фоток\n",
        "!mkdir train/vehicles/aug_vehicles\n",
        "!mkdir train/plants/aug_plants"
      ],
      "metadata": {
        "id": "nX244iWnZ1Cb"
      },
      "execution_count": null,
      "outputs": []
    },
    {
      "cell_type": "code",
      "source": [
        "# создаем списки фоток по классам \n",
        "train_vehicles_file_names = req_train[req_train.category_name == 'Vehicles'].file.apply(lambda x: x[5:]).tolist()\n",
        "train_plants_file_names = req_train[req_train.category_name == 'Plants'].file.apply(lambda x: x[5:]).tolist()\n",
        "train_other_file_names = df_train.file.apply(lambda x: x[5:]).tolist()\n",
        "\n",
        "test_vehicles_file_names = req_test[req_test.category_name == 'Vehicles'].file.apply(lambda x: x[5:]).tolist()\n",
        "test_plants_file_names = req_test[req_test.category_name == 'Plants'].file.apply(lambda x: x[5:]).tolist()\n",
        "test_other_file_names = df_test.file.apply(lambda x: x[5:]).tolist()"
      ],
      "metadata": {
        "id": "pa4gimpYhtd2"
      },
      "execution_count": null,
      "outputs": []
    },
    {
      "cell_type": "code",
      "source": [
        "# сортируем по папкам в train\n",
        "for file in file_names:\n",
        "  if file in train_vehicles_file_names:\n",
        "    shutil.copy('data/'+file, '/content/drive/MyDrive/Sila_Sveta/train/vehicles/aug_vehicles')\n",
        "  elif file in train_plants_file_names:\n",
        "    shutil.copy('data/'+file, '/content/drive/MyDrive/Sila_Sveta/train/plants/aug_plants')\n",
        "  elif file in train_other_file_names:\n",
        "    shutil.copy('data/'+file, '/content/drive/MyDrive/Sila_Sveta/train/other')"
      ],
      "metadata": {
        "id": "bFm0HaXMhWif"
      },
      "execution_count": null,
      "outputs": []
    },
    {
      "cell_type": "code",
      "source": [
        "# сортируем по папкам в test\n",
        "for file in file_names:\n",
        "  if file in test_vehicles_file_names:\n",
        "    shutil.copy('data/'+file, '/content/drive/MyDrive/Sila_Sveta/test/vehicles')\n",
        "  elif file in test_plants_file_names:\n",
        "    shutil.copy('data/'+file, '/content/drive/MyDrive/Sila_Sveta/test/plants')\n",
        "  elif file in test_other_file_names:\n",
        "    shutil.copy('data/'+file, '/content/drive/MyDrive/Sila_Sveta/test/other')"
      ],
      "metadata": {
        "id": "zweVLHbDoIYQ"
      },
      "execution_count": null,
      "outputs": []
    },
    {
      "cell_type": "markdown",
      "source": [
        "## Data augmentation and Naive UnderSampling"
      ],
      "metadata": {
        "id": "ivTHn9m0ageB"
      }
    },
    {
      "cell_type": "code",
      "source": [
        "#так, как у нас сильный дисбаланс классов, применим аугментацию для двух меньшинствующих классов и undersampling для класса other в папке train\n",
        "len(df_train), len(df_test), len(req_train), len(req_test)"
      ],
      "metadata": {
        "colab": {
          "base_uri": "https://localhost:8080/"
        },
        "id": "1P7LnWVtsVW7",
        "outputId": "3fe0dcd4-7a36-420d-b92c-917e8950bb93"
      },
      "execution_count": null,
      "outputs": [
        {
          "output_type": "execute_result",
          "data": {
            "text/plain": [
              "(1233, 1246, 325, 297)"
            ]
          },
          "metadata": {},
          "execution_count": 43
        }
      ]
    },
    {
      "cell_type": "code",
      "source": [
        "from tensorflow.keras.preprocessing.image import ImageDataGenerator\n",
        "\n",
        "\n",
        "vehicle_dir = 'train/vehicles/'\n",
        "plant_dir = 'train/plants/'\n",
        "\n",
        "\n",
        "# функция аугментации\n",
        "aug_datagen = ImageDataGenerator(\n",
        "    # rescale=1./255,\n",
        "    rotation_range=60,\n",
        "    width_shift_range=0.2,\n",
        "    height_shift_range=0.2,\n",
        "    shear_range=0.2,\n",
        "    zoom_range=0.2,\n",
        "    horizontal_flip=True,\n",
        "    brightness_range = (0.5, 1.5))"
      ],
      "metadata": {
        "id": "xnbJVuL4v4TL"
      },
      "execution_count": null,
      "outputs": []
    },
    {
      "cell_type": "code",
      "source": [
        "# применяем аугментацию для фотографий машин\n",
        "i = 0\n",
        "for batch in aug_datagen.flow_from_directory(vehicle_dir,batch_size=16,\n",
        "                          save_to_dir='train/vehicles/aug_vehicles', save_prefix='aug', save_format='png'):\n",
        "    i += 1\n",
        "    if i > 10:\n",
        "        break "
      ],
      "metadata": {
        "colab": {
          "base_uri": "https://localhost:8080/"
        },
        "id": "Jw_KFfc9ScEG",
        "outputId": "e09efd22-565d-40a1-c5d6-99bc08235fd2"
      },
      "execution_count": null,
      "outputs": [
        {
          "output_type": "stream",
          "name": "stdout",
          "text": [
            "Found 175 images belonging to 1 classes.\n"
          ]
        }
      ]
    },
    {
      "cell_type": "code",
      "source": [
        "# применяем аугментацию для фотографий растений\n",
        "i = 0\n",
        "for batch in aug_datagen.flow_from_directory(plant_dir,batch_size=16,\n",
        "                          save_to_dir='train/plants/aug_plants', save_prefix='aug', save_format='png'):\n",
        "    i += 1\n",
        "    if i > 12:\n",
        "        break "
      ],
      "metadata": {
        "id": "bzIQvklrQYwV",
        "colab": {
          "base_uri": "https://localhost:8080/"
        },
        "outputId": "6a701259-b64b-4c6d-d1b3-588d8d49f463"
      },
      "execution_count": null,
      "outputs": [
        {
          "output_type": "stream",
          "name": "stdout",
          "text": [
            "Found 149 images belonging to 1 classes.\n"
          ]
        }
      ]
    },
    {
      "cell_type": "code",
      "source": [
        "plants_path = os.listdir('/content/drive/MyDrive/Sila_Sveta/train/plants/aug_plants')\n",
        "vehicles_path = os.listdir('/content/drive/MyDrive/Sila_Sveta/train/vehicles/aug_vehicles')"
      ],
      "metadata": {
        "id": "MkGqB1W0kNyR"
      },
      "execution_count": null,
      "outputs": []
    },
    {
      "cell_type": "code",
      "source": [
        "len(vehicles_path), len(plants_path)"
      ],
      "metadata": {
        "colab": {
          "base_uri": "https://localhost:8080/"
        },
        "id": "ib0e5qJ1S4Ph",
        "outputId": "9d7110e9-8927-402f-ba85-52bf933a11df"
      },
      "execution_count": null,
      "outputs": [
        {
          "output_type": "execute_result",
          "data": {
            "text/plain": [
              "(350, 346)"
            ]
          },
          "metadata": {},
          "execution_count": 48
        }
      ]
    },
    {
      "cell_type": "code",
      "source": [
        "# cобираем вместе обычные и аугментированные фотки машин\n",
        "for file in vehicles_path:\n",
        "  shutil.copy('train/vehicles/aug_vehicles/'+file, '/content/drive/MyDrive/Sila_Sveta/train/vehicles/')"
      ],
      "metadata": {
        "id": "QNXpJ-5qkek9"
      },
      "execution_count": null,
      "outputs": []
    },
    {
      "cell_type": "code",
      "source": [
        "# cобираем вместе обычные и аугментированные фотки растений\n",
        "for file in plants_path:\n",
        "  shutil.copy('train/plants/aug_plants/'+file, '/content/drive/MyDrive/Sila_Sveta/train/plants/')"
      ],
      "metadata": {
        "id": "UjWuTwKkkeV3"
      },
      "execution_count": null,
      "outputs": []
    },
    {
      "cell_type": "code",
      "source": [
        "# удаляем папки aug_plants & aug_vehicles\n",
        "shutil.rmtree('/content/drive/MyDrive/Sila_Sveta/train/plants/aug_plants', ignore_errors=True)\n",
        "shutil.rmtree('/content/drive/MyDrive/Sila_Sveta/train/vehicles/aug_vehicles', ignore_errors=True)"
      ],
      "metadata": {
        "id": "---YhiASSv_p"
      },
      "execution_count": null,
      "outputs": []
    },
    {
      "cell_type": "code",
      "source": [
        "# применяем наивный undersampling для фоток класса other\n",
        "\n",
        "path = r'train/other'\n",
        "n = 800 \n",
        "img_names = os.listdir(path)\n",
        "img_names = random.sample(img_names, n)\n",
        "for image in img_names:\n",
        "  f = os.path.join(path, image) \n",
        "  os.remove(f) "
      ],
      "metadata": {
        "id": "WZgQZ8Wfq-mm"
      },
      "execution_count": null,
      "outputs": []
    },
    {
      "cell_type": "code",
      "source": [
        "len(os.listdir('/content/drive/MyDrive/Sila_Sveta/train/other'))"
      ],
      "metadata": {
        "colab": {
          "base_uri": "https://localhost:8080/"
        },
        "id": "YC8W64bZru9v",
        "outputId": "7fc237a9-4d18-4a1b-f04e-452ee055b6ba"
      },
      "execution_count": null,
      "outputs": [
        {
          "output_type": "execute_result",
          "data": {
            "text/plain": [
              "433"
            ]
          },
          "metadata": {},
          "execution_count": 55
        }
      ]
    },
    {
      "cell_type": "markdown",
      "source": [
        "## Fine-tuning pre-trainde ResNet101v2 model with Keras"
      ],
      "metadata": {
        "id": "9zgUtY4ftFrr"
      }
    },
    {
      "cell_type": "code",
      "source": [
        "from tensorflow.keras.applications.inception_v3 import InceptionV3, preprocess_input\n",
        "from tensorflow.keras.applications import ResNet101V2\n",
        "from tensorflow.keras.preprocessing import image, image_dataset_from_directory\n",
        "from tensorflow.keras.models import Model\n",
        "from tensorflow.keras.layers import Dense, GlobalAveragePooling2D, Dropout\n",
        "from operator import itemgetter \n",
        "import tensorflow as tf\n",
        "from tensorflow import keras\n",
        "from keras.preprocessing.image import ImageDataGenerator"
      ],
      "metadata": {
        "id": "i83gxLFbrTgz"
      },
      "execution_count": 14,
      "outputs": []
    },
    {
      "cell_type": "code",
      "source": [
        "# train_dir = '/content/drive/MyDrive/Sila_Sveta/train'\n",
        "\n",
        "# train_datagen = ImageDataGenerator(rescale=1./255, validation_split=0.2)\n",
        "\n",
        "# train_generator = train_datagen.flow_from_directory(\n",
        "#         train_dir,\n",
        "#         target_size=(331, 331),  \n",
        "#         batch_size=64,\n",
        "#         class_mode='categorical',\n",
        "#         subset='training'\n",
        "#         )\n",
        "\n",
        "# validation_generator = train_datagen.flow_from_directory(\n",
        "#         train_dir,\n",
        "#         target_size=(331, 331),\n",
        "#         batch_size=64,\n",
        "#         class_mode='categorical',\n",
        "#         subset='validation'\n",
        "#         )"
      ],
      "metadata": {
        "colab": {
          "base_uri": "https://localhost:8080/"
        },
        "id": "xofh7TiquJDA",
        "outputId": "45f40683-956e-4016-b3fc-0b1a5bb42212"
      },
      "execution_count": null,
      "outputs": [
        {
          "output_type": "stream",
          "name": "stdout",
          "text": [
            "Found 904 images belonging to 3 classes.\n",
            "Found 225 images belonging to 3 classes.\n"
          ]
        }
      ]
    },
    {
      "cell_type": "code",
      "source": [
        "#создаем папку куда будем сохраним новую модель\n",
        "# !mkdir checkpoints"
      ],
      "metadata": {
        "id": "O44s3BHE47pq"
      },
      "execution_count": null,
      "outputs": []
    },
    {
      "cell_type": "code",
      "source": [
        "resnet = ResNet101V2(weights='imagenet', include_top=False, input_shape=(331,331,3))\n",
        "x = resnet.output\n",
        "x = GlobalAveragePooling2D()(x)\n",
        "x = Dense(512, activation='relu')(x)\n",
        "x = Dropout(.3)(x)\n",
        "preds = Dense(3, activation='softmax')(x)\n",
        "model = Model(inputs=resnet.input, outputs=preds)\n",
        "\n",
        "\n",
        "for layer in resnet.layers:\n",
        "    layer.trainable = False\n",
        "\n",
        "\n",
        "model.compile(optimizer = tf.keras.optimizers.Adam(lr=0.0001), loss = 'categorical_crossentropy', metrics = ['acc'])"
      ],
      "metadata": {
        "colab": {
          "base_uri": "https://localhost:8080/"
        },
        "id": "Hs07nZe9vXu7",
        "outputId": "7c54e82a-7429-4f23-c2cf-2c9edf6d2bf1"
      },
      "execution_count": 15,
      "outputs": [
        {
          "output_type": "stream",
          "name": "stdout",
          "text": [
            "Downloading data from https://storage.googleapis.com/tensorflow/keras-applications/resnet/resnet101v2_weights_tf_dim_ordering_tf_kernels_notop.h5\n",
            "171319296/171317808 [==============================] - 1s 0us/step\n",
            "171327488/171317808 [==============================] - 1s 0us/step\n"
          ]
        },
        {
          "output_type": "stream",
          "name": "stderr",
          "text": [
            "/usr/local/lib/python3.7/dist-packages/keras/optimizer_v2/adam.py:105: UserWarning: The `lr` argument is deprecated, use `learning_rate` instead.\n",
            "  super(Adam, self).__init__(name, **kwargs)\n"
          ]
        }
      ]
    },
    {
      "cell_type": "code",
      "source": [
        "# Чтобы не обучать модель, можно подгрузить веса уже обученной модели\n",
        "loaded_model = tf.keras.models.load_model('/content/drive/MyDrive/Sila_Sveta/checkpoints/')"
      ],
      "metadata": {
        "id": "dcMJyXj1yG3S"
      },
      "execution_count": null,
      "outputs": []
    },
    {
      "cell_type": "code",
      "source": [
        "# запускаем обучение\n",
        "\n",
        "# history = model.fit(\n",
        "#       train_generator,\n",
        "#       epochs=6,\n",
        "#       validation_data=validation_generator\n",
        "#       )"
      ],
      "metadata": {
        "colab": {
          "base_uri": "https://localhost:8080/"
        },
        "id": "MBT_DiO3wFaR",
        "outputId": "b07825e0-c1d4-40f2-ee86-eea3e0b6d302"
      },
      "execution_count": null,
      "outputs": [
        {
          "output_type": "stream",
          "name": "stdout",
          "text": [
            "Epoch 1/6\n",
            "15/15 [==============================] - 50s 2s/step - loss: 0.6503 - acc: 0.7279 - val_loss: 0.2792 - val_acc: 0.9244\n",
            "Epoch 2/6\n",
            "15/15 [==============================] - 24s 2s/step - loss: 0.2170 - acc: 0.9270 - val_loss: 0.1839 - val_acc: 0.9378\n",
            "Epoch 3/6\n",
            "15/15 [==============================] - 24s 2s/step - loss: 0.1454 - acc: 0.9491 - val_loss: 0.1356 - val_acc: 0.9600\n",
            "Epoch 4/6\n",
            "15/15 [==============================] - 24s 2s/step - loss: 0.1067 - acc: 0.9723 - val_loss: 0.1435 - val_acc: 0.9511\n",
            "Epoch 5/6\n",
            "15/15 [==============================] - 25s 2s/step - loss: 0.0878 - acc: 0.9746 - val_loss: 0.1069 - val_acc: 0.9644\n",
            "Epoch 6/6\n",
            "15/15 [==============================] - 25s 2s/step - loss: 0.0753 - acc: 0.9801 - val_loss: 0.1346 - val_acc: 0.9644\n"
          ]
        }
      ]
    },
    {
      "cell_type": "code",
      "source": [
        "# сохраняем модель\n",
        "model.save('')"
      ],
      "metadata": {
        "colab": {
          "base_uri": "https://localhost:8080/"
        },
        "id": "__dTc4GblVGx",
        "outputId": "adeca5a2-2aa1-41ef-96a0-a1e71b0b686b"
      },
      "execution_count": null,
      "outputs": [
        {
          "output_type": "stream",
          "name": "stdout",
          "text": [
            "INFO:tensorflow:Assets written to: /content/drive/MyDrive/Sila_Sveta/checkpoints/assets\n"
          ]
        }
      ]
    },
    {
      "cell_type": "code",
      "source": [
        "# создаем тестовый датаген\n",
        "test_dir = '/content/drive/MyDrive/Sila_Sveta/test'\n",
        "\n",
        "test_datagen = ImageDataGenerator(rescale=1./255)\n",
        "\n",
        "test_generator = test_datagen.flow_from_directory(\n",
        "        test_dir,\n",
        "        target_size=(331, 331),\n",
        "        batch_size=64,\n",
        "        class_mode='categorical'\n",
        "        )"
      ],
      "metadata": {
        "colab": {
          "base_uri": "https://localhost:8080/"
        },
        "id": "tKY-4SEAaFuU",
        "outputId": "fae58015-0176-434f-80b9-83f0f9b13a54"
      },
      "execution_count": null,
      "outputs": [
        {
          "output_type": "stream",
          "name": "stdout",
          "text": [
            "Found 1543 images belonging to 3 classes.\n"
          ]
        }
      ]
    },
    {
      "cell_type": "code",
      "source": [
        "# оцениваем модель на тестовой выборке\n",
        "score = model.evaluate(test_generator)"
      ],
      "metadata": {
        "colab": {
          "base_uri": "https://localhost:8080/"
        },
        "id": "Oei1I7l_4xC_",
        "outputId": "22f87245-39c8-483e-98e4-35c57902f2d2"
      },
      "execution_count": null,
      "outputs": [
        {
          "output_type": "stream",
          "name": "stdout",
          "text": [
            "25/25 [==============================] - 34s 1s/step - loss: 0.1065 - acc: 0.9644\n"
          ]
        }
      ]
    },
    {
      "cell_type": "code",
      "source": [
        "from tensorflow.keras.preprocessing import image\n",
        "from tensorflow.keras.applications.resnet50 import preprocess_input, decode_predictions"
      ],
      "metadata": {
        "id": "K4ncBGHHPurA"
      },
      "execution_count": null,
      "outputs": []
    },
    {
      "cell_type": "code",
      "source": [
        "labels = train_generator.class_indices\n",
        "labels = list(labels.items())"
      ],
      "metadata": {
        "id": "253_BKvh7y6W"
      },
      "execution_count": null,
      "outputs": []
    },
    {
      "cell_type": "code",
      "source": [
        "labels"
      ],
      "metadata": {
        "colab": {
          "base_uri": "https://localhost:8080/"
        },
        "id": "_gyFUekvcAgy",
        "outputId": "4dfc8f31-f4f2-4ecf-e225-82fa69138cf9"
      },
      "execution_count": null,
      "outputs": [
        {
          "output_type": "execute_result",
          "data": {
            "text/plain": [
              "[('other', 0), ('plants', 1), ('vehicles', 2)]"
            ]
          },
          "metadata": {},
          "execution_count": 66
        }
      ]
    },
    {
      "cell_type": "code",
      "source": [
        "# Сделаем предсказания на всех тестовых фотках и запишем в одну переменную\n",
        "all_preds = {'other': [], 'plants': [], 'vehicles': []}\n",
        "# final_version = []\n",
        "for path in ['/content/drive/MyDrive/Sila_Sveta/test/other/', '/content/drive/MyDrive/Sila_Sveta/test/plants/', '/content/drive/MyDrive/Sila_Sveta/test/vehicles/']:\n",
        "  files = os.listdir(path)\n",
        "  for img in files:\n",
        "    img_name = img\n",
        "    img = image.load_img(path + img)\n",
        "    img = img.resize([331, 331])\n",
        "    j = image.img_to_array(img).astype('float32')/255\n",
        "    j = np.expand_dims(j, axis=0)\n",
        "    test_pred = model.predict(j)\n",
        "    all_preds[path[39:-1]].append(test_pred)\n",
        "    # cat = df_test[df_test['file'] == 'data/' + img_name]['category_name'].values[0]\n",
        "    # print(f'{cat} - {img_name} -> Plants = {test_pred[0][1]:.3f}, vehicles = {test_pred[0][2]:.3f}')\n"
      ],
      "metadata": {
        "id": "3r1hXNLPIz5A"
      },
      "execution_count": null,
      "outputs": []
    },
    {
      "cell_type": "code",
      "source": [
        "# применяем, чтобы получить интерпретируемые результаты предсказаний\n",
        "np.set_printoptions(suppress=True)"
      ],
      "metadata": {
        "id": "YmzZJ5FWz8hI"
      },
      "execution_count": null,
      "outputs": []
    },
    {
      "cell_type": "markdown",
      "source": [
        "## Confussion matrix, f1-score"
      ],
      "metadata": {
        "id": "0ElbV_oizRV1"
      }
    },
    {
      "cell_type": "code",
      "source": [
        "def get_pred_label(preds_labeled: list) -> list:\n",
        "  y_pred = []\n",
        "  labels = ('other', 'plants', 'vehicles')\n",
        "  for img_pred in preds_labeled:\n",
        "    y_pred.append(labels[img_pred.argmax()])\n",
        "  return y_pred"
      ],
      "metadata": {
        "id": "LY5VIxbIqC2h"
      },
      "execution_count": null,
      "outputs": []
    },
    {
      "cell_type": "code",
      "source": [
        "# Запишем предсказанные лейблы\n",
        "all_pred_labels = []\n",
        "for key in all_preds:\n",
        "  all_pred_labels.extend(get_pred_label(all_preds[key]))\n",
        "\n",
        "len(all_pred_labels)"
      ],
      "metadata": {
        "colab": {
          "base_uri": "https://localhost:8080/"
        },
        "id": "18po7_rJsJjg",
        "outputId": "20db75c4-e7cb-4c27-dc6e-9e8bbbb5e698"
      },
      "execution_count": null,
      "outputs": [
        {
          "output_type": "execute_result",
          "data": {
            "text/plain": [
              "1543"
            ]
          },
          "metadata": {},
          "execution_count": 132
        }
      ]
    },
    {
      "cell_type": "code",
      "source": [
        "len(os.listdir('/content/drive/MyDrive/Sila_Sveta/test/other')), len(os.listdir('/content/drive/MyDrive/Sila_Sveta/test/plants')), len(os.listdir('/content/drive/MyDrive/Sila_Sveta/test/vehicles'))"
      ],
      "metadata": {
        "colab": {
          "base_uri": "https://localhost:8080/"
        },
        "id": "oZBfi2CltGw-",
        "outputId": "d70c2729-91e7-44f5-93e0-94d685b3ba57"
      },
      "execution_count": null,
      "outputs": [
        {
          "output_type": "execute_result",
          "data": {
            "text/plain": [
              "(1246, 115, 182)"
            ]
          },
          "metadata": {},
          "execution_count": 101
        }
      ]
    },
    {
      "cell_type": "code",
      "source": [
        "other = ('other '*1246).split()\n",
        "plants = ('plants '*115).split()\n",
        "vehicles = ('vehicles '*182).split()"
      ],
      "metadata": {
        "id": "4stJT46Stnsy"
      },
      "execution_count": null,
      "outputs": []
    },
    {
      "cell_type": "code",
      "source": [
        "# запишем реальные лейблы\n",
        "all_true_labels = []\n",
        "for i in [other, plants, vehicles]:\n",
        "  all_true_labels.extend(i)\n",
        "\n",
        "len(all_true_labels)"
      ],
      "metadata": {
        "colab": {
          "base_uri": "https://localhost:8080/"
        },
        "id": "nbA-iEojs6Nu",
        "outputId": "7bd6f561-d4fd-407e-fd07-38d9fcf36244"
      },
      "execution_count": null,
      "outputs": [
        {
          "output_type": "execute_result",
          "data": {
            "text/plain": [
              "1543"
            ]
          },
          "metadata": {},
          "execution_count": 103
        }
      ]
    },
    {
      "cell_type": "code",
      "source": [
        "# строим confussion matrix\n",
        "from sklearn.metrics import confusion_matrix\n",
        "cm = y_true = confusion_matrix(all_true_labels, all_pred_labels)"
      ],
      "metadata": {
        "id": "BlIdbF1uA7G8"
      },
      "execution_count": null,
      "outputs": []
    },
    {
      "cell_type": "code",
      "source": [
        "cm_df = pd.DataFrame(cm,\n",
        "                     index = ['other','plants','vehicles'], \n",
        "                     columns = ['other','plants','vehicles'])"
      ],
      "metadata": {
        "id": "zUyRVE3-oi_a"
      },
      "execution_count": null,
      "outputs": []
    },
    {
      "cell_type": "code",
      "source": [
        "#Визуализируем confusion matrix\n",
        "\n",
        "import matplotlib.pyplot as plt\n",
        "import seaborn as sns\n",
        "\n",
        "plt.figure(figsize=(15,10))\n",
        "sns.heatmap(cm_df, annot=True, fmt='.0f', cmap=\"YlGnBu\")\n",
        "plt.title('Confusion Matrix')\n",
        "plt.ylabel('Actal Values')\n",
        "plt.xlabel('Predicted Values')\n",
        "plt.show()\n"
      ],
      "metadata": {
        "colab": {
          "base_uri": "https://localhost:8080/",
          "height": 621
        },
        "id": "GAHfoPHtudir",
        "outputId": "a4711291-8fce-4845-8c78-439444eee85c"
      },
      "execution_count": null,
      "outputs": [
        {
          "output_type": "display_data",
          "data": {
            "text/plain": [
              "<Figure size 1080x720 with 2 Axes>"
            ],
            "image/png": "[encoded data removed]"
          },
          "metadata": {
            "needs_background": "light"
          }
        }
      ]
    },
    {
      "cell_type": "code",
      "source": [
        "# посчитаем f1-score\n",
        "from sklearn.metrics import f1_score, classification_report\n",
        "f1_score(all_true_labels, all_pred_labels, average = 'weighted')"
      ],
      "metadata": {
        "colab": {
          "base_uri": "https://localhost:8080/"
        },
        "id": "OHDi18U-0h3i",
        "outputId": "d017b918-6f1b-41ed-d01a-ce55a18ae1de"
      },
      "execution_count": null,
      "outputs": [
        {
          "output_type": "execute_result",
          "data": {
            "text/plain": [
              "0.965495014091646"
            ]
          },
          "metadata": {},
          "execution_count": 134
        }
      ]
    },
    {
      "cell_type": "code",
      "source": [
        ""
      ],
      "metadata": {
        "id": "ZCvsp0g01xgs"
      },
      "execution_count": null,
      "outputs": []
    },
    {
      "cell_type": "code",
      "source": [
        ""
      ],
      "metadata": {
        "id": "gn5IFWvd0v4x"
      },
      "execution_count": null,
      "outputs": []
    }
  ]
}